{
 "cells": [
  {
   "cell_type": "markdown",
   "metadata": {},
   "source": [
    "#### Libraries"
   ]
  },
  {
   "cell_type": "code",
   "execution_count": 7,
   "metadata": {},
   "outputs": [],
   "source": [
    "import geopandas as gpd\n",
    "from datetime import timedelta\n",
    "import openeo\n",
    "import rasterio\n",
    "from rasterio.features import rasterize\n",
    "import rioxarray\n",
    "import xarray as xr\n",
    "import numpy as np\n",
    "import matplotlib.pyplot as plt\n",
    "from rasterio.crs import CRS\n",
    "import fiona\n",
    "from rasterio.mask import mask\n",
    "\n",
    "from openeo.processes import if_, is_nan\n",
    "\n",
    "from files.utils_BAP import (calculate_cloud_mask, calculate_cloud_coverage_score,\n",
    "                           calculate_date_score, calculate_distance_to_cloud_score,\n",
    "                           calculate_distance_to_cloud_score, aggregate_BAP_scores,\n",
    "                           create_rank_mask)\n"
   ]
  },
  {
   "cell_type": "markdown",
   "metadata": {},
   "source": [
    "#### Download Imagery as NETCDF"
   ]
  },
  {
   "cell_type": "code",
   "execution_count": null,
   "metadata": {},
   "outputs": [],
   "source": [
    "gdf = gpd.read_file(r\"files\\sample_geojson\")\n",
    "gdf = gdf.to_crs(epsg=4326)\n",
    "\n",
    "# extract date and shift the date to 2 weeks before the harvest time\n",
    "lowest_date = gdf.loc[0, 'HDate'] - timedelta(days=14)\n",
    "highest_date = gdf.iloc[-1]['HDate'] - timedelta(days=14)\n",
    "\n",
    "# make the date in Years, Month and date\n",
    "highest_date= highest_date.strftime('%Y-%m-%d')\n",
    "lowest_date = lowest_date.strftime('%Y-%m-%d')\n",
    "\n",
    "# delete date columns or else it won't serialise to JSON\n",
    "del gdf['SDate']\n",
    "del gdf['HDate']\n",
    "\n",
    "# convert to JSON\n",
    "area = eval(gdf.to_json())"
   ]
  },
  {
   "cell_type": "code",
   "execution_count": null,
   "metadata": {},
   "outputs": [],
   "source": [
    "max_cloud_cover = 70\n",
    "spatial_resolution = 20\n",
    "temporal_extent = ['2023-08-01', '2023-08-31']"
   ]
  },
  {
   "cell_type": "code",
   "execution_count": null,
   "metadata": {},
   "outputs": [],
   "source": [
    "connection =openeo.connect(\"openeo.dataspace.copernicus.eu\").authenticate_oidc()\n",
    "\n",
    "scl = connection.load_collection(\n",
    "    \"SENTINEL2_L2A\",\n",
    "    temporal_extent=temporal_extent,\n",
    "    bands=[\"SCL\"],\n",
    "    max_cloud_cover=max_cloud_cover,\n",
    "    spatial_extent={\n",
    "                        \"west\": 78.2069150142717859, \n",
    "                        \"south\": 19.3370105417870697,\n",
    "                        \"east\": 78.9373164563397438, \n",
    "                        \"north\": 19.7840957974622071, \n",
    "                        \"crs\": 'EPSG:4326'\n",
    "                    }\n",
    ").resample_spatial(spatial_resolution)\n",
    "\n",
    "scl = scl.apply(lambda x: if_(is_nan(x), 0, x))"
   ]
  },
  {
   "cell_type": "code",
   "execution_count": null,
   "metadata": {},
   "outputs": [],
   "source": [
    "cloud_mask =  calculate_cloud_mask(scl)\n",
    "\n",
    "coverage_score = calculate_cloud_coverage_score(cloud_mask, area, scl)\n",
    "\n",
    "date_score = calculate_date_score(scl)\n",
    "\n",
    "dtc_score = calculate_distance_to_cloud_score(cloud_mask, spatial_resolution)\n",
    "\n",
    "weights = [1, 0.8, 0.5]\n",
    "score = aggregate_BAP_scores(dtc_score, date_score, coverage_score, weights)\n",
    "score = score.mask(scl.band(\"SCL\") == 0)\n",
    "\n",
    "rank_mask = create_rank_mask(score)"
   ]
  },
  {
   "cell_type": "code",
   "execution_count": null,
   "metadata": {},
   "outputs": [],
   "source": [
    "rgb_bands = connection.load_collection(\n",
    "    \"SENTINEL2_L2A\",\n",
    "    temporal_extent = temporal_extent,\n",
    "    bands = [\"B02\", \"B03\",\"B04\"],\n",
    "    max_cloud_cover=max_cloud_cover,\n",
    "    spatial_extent={\n",
    "                        \"west\": 78.2069150142717859, \n",
    "                        \"south\": 19.3370105417870697,\n",
    "                        \"east\": 78.9373164563397438, \n",
    "                        \"north\": 19.7840957974622071, \n",
    "                        \"crs\": 'EPSG:4326'\n",
    "                    }\n",
    ")\n",
    "\n",
    "composite = rgb_bands.mask(rank_mask).mask(cloud_mask).aggregate_temporal_period(\"month\",\"first\")"
   ]
  },
  {
   "cell_type": "code",
   "execution_count": null,
   "metadata": {},
   "outputs": [],
   "source": [
    "job = composite.execute_batch(\n",
    "    title=\"BAP Composite\",\n",
    "    out_format=\"netcdf\"\n",
    ")\n",
    "results = job.get_results()\n",
    "results.download_files(r'files/')"
   ]
  },
  {
   "cell_type": "markdown",
   "metadata": {},
   "source": [
    "#### Export Downloaded NETCDF Imagery as Tiff imagery"
   ]
  },
  {
   "cell_type": "code",
   "execution_count": null,
   "metadata": {},
   "outputs": [],
   "source": [
    "# load in the nz file and use the polygons in \n",
    "satellite_image_path = r\"files\\openEO.nc\"\n",
    "\n",
    "\n",
    "composite_ds = rioxarray.open_rasterio(satellite_image_path, decode_times=False)\n",
    "\n",
    "# check dimension \n",
    "print(f'Dimension before reduction: {composite_ds.dims}')\n",
    "\n",
    "composite_ds = composite_ds.squeeze(axis=0)\n",
    "\n",
    "# check dimension \n",
    "print(f'Dimension after reduction: {composite_ds.dims}')\n",
    "\n",
    "# export the netcdf to tif raster\n",
    "composite_ds.rio.to_raster(r'files/all_bands.tif')"
   ]
  },
  {
   "cell_type": "markdown",
   "metadata": {},
   "source": [
    "#### Single Channel Mask"
   ]
  },
  {
   "cell_type": "code",
   "execution_count": 8,
   "metadata": {},
   "outputs": [],
   "source": [
    "gdf = gpd.read_file(r\"files\\sample_geojson\")\n",
    "\n",
    "# convert geojson to shapefile\n",
    "# gdf.to_file(r'files/sample_shapefile.shp')\n",
    "# gdf = gdf.to_crs(epsg=4326)\n",
    "\n",
    "satellite_image_path = r\"files\\all_bands.tif\"\n",
    "with rasterio.open(satellite_image_path, 'r+') as src:\n",
    "    satellite_meta = src.meta\n",
    "    satellite_transform = src.transform\n",
    "    satellite_shape = (src.height, src.width) \n",
    "\n",
    "    # change geojson crs to the crs of the image\n",
    "    image_crs  = 'EPSG:32644'\n",
    "    gdf = gdf.to_crs(image_crs)\n",
    "\n",
    "    # extract polygons\n",
    "    shapes = [feature[\"geometry\"] for feature in gdf.iterfeatures()]\n",
    "\n",
    "    # Filter NoneType from building shape\n",
    "    shapes = list(filter(None, shapes))\n",
    "\n",
    "    # Clip the raster with Polygon\n",
    "    out_img, out_transform = mask(src, shapes, crop=False)\n",
    "\n",
    "    # since there are some values that are lesser than zero, these are nan values, turn them to zero\n",
    "    out_img_updated= np.where(out_img<=0, 0, out_img)\n",
    "\n",
    "    # make sure that values that are not zero turns out to be 255  (these are the masks)\n",
    "    out_img_unique = np.where(out_img_updated!= 0, 255, out_img_updated)"
   ]
  },
  {
   "cell_type": "code",
   "execution_count": 9,
   "metadata": {},
   "outputs": [],
   "source": [
    "# since we are working with a single label, the mask should have one channel\n",
    "mask = out_img_unique[0, :, :]\n",
    "\n",
    "# make sure the dimension of the image is (channel, Height, Width) and not (Height, Width)\n",
    "# this needs to be done, else the mask would wrongly be calculated\n",
    "expand_mask = np.expand_dims(mask, axis=0)"
   ]
  },
  {
   "cell_type": "code",
   "execution_count": null,
   "metadata": {},
   "outputs": [],
   "source": [
    "# export mask\n",
    "out_tif = r'files/mask_single_channel.tiff'\n",
    "out_meta= {'driver': 'GTiff',\n",
    "                 'dtype': 'uint8',\n",
    "                 'height': expand_mask.shape[1],\n",
    "                 'width': expand_mask.shape[2],\n",
    "                 'transform': out_transform,\n",
    "                 'count': 1,\n",
    "                 'crs': src.crs \n",
    "}\n",
    "with rasterio.open(out_tif, \"w\", **out_meta) as dest:\n",
    "        dest.write(expand_mask.astype('uint8'))\n"
   ]
  },
  {
   "cell_type": "markdown",
   "metadata": {},
   "source": []
  }
 ],
 "metadata": {
  "kernelspec": {
   "display_name": "datascience",
   "language": "python",
   "name": "python3"
  },
  "language_info": {
   "codemirror_mode": {
    "name": "ipython",
    "version": 3
   },
   "file_extension": ".py",
   "mimetype": "text/x-python",
   "name": "python",
   "nbconvert_exporter": "python",
   "pygments_lexer": "ipython3",
   "version": "3.10.15"
  }
 },
 "nbformat": 4,
 "nbformat_minor": 2
}
